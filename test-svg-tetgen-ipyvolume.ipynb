{
 "cells": [
  {
   "cell_type": "markdown",
   "metadata": {},
   "source": [
    "Copyright 2018 Artificial Intelligence Research Institute(AIRI), Korea\n",
    "\n",
    "This file is part of lathe-and-shatter.\n",
    "lathe-and-shatter is free software: you can redistribute it and/or modify\n",
    "it under the terms of the GNU General Public License as published by\n",
    "the Free Software Foundation, either version 3 of the License, or\n",
    "(at your option) any later version.\n",
    "\n",
    "lathe-and-shatter is distributed in the hope that it will be useful,\n",
    "but WITHOUT ANY WARRANTY; without even the implied warranty of\n",
    "MERCHANTABILITY or FITNESS FOR A PARTICULAR PURPOSE.  See the\n",
    "GNU General Public License for more details.\n",
    "\n",
    "You should have received a copy of the GNU General Public License\n",
    "along with lathe-and-shatter.  If not, see <https://www.gnu.org/licenses/>."
   ]
  },
  {
   "cell_type": "code",
   "execution_count": 1,
   "metadata": {
    "collapsed": true
   },
   "outputs": [],
   "source": [
    "%matplotlib inline"
   ]
  },
  {
   "cell_type": "markdown",
   "metadata": {},
   "source": [
    "- http://wias-berlin.de/software/tetgen/1.5/doc/manual/manual.pdf\n",
    "- http://wias-berlin.de/software/tetgen/fformats.html\n",
    "- http://wias-berlin.de/software/tetgen/fformats.examples.html\n",
    "- http://wias-berlin.de/software/tetgen/1.5/doc/manual/manual005.html"
   ]
  },
  {
   "cell_type": "markdown",
   "metadata": {},
   "source": [
    "- `-p\tTetrahedralizes a piecewise linear complex (PLC).`\n",
    "- `-Y\tPreserves the input surface mesh (does not modify it).`\n",
    "- `-r\tReconstructs a previously generated mesh.`\n",
    "- `-q\tRefines mesh (to improve mesh quality).`\n",
    "- `-A\tAssigns attributes to tetrahedra in different regions`\n",
    "- `-M\tNo merge of coplanar facets or very close vertices.`\n",
    "- `-C\tChecks the consistency of the final mesh.`"
   ]
  },
  {
   "cell_type": "markdown",
   "metadata": {},
   "source": [
    "- A region attribute is an integer which can be either positive or negative. It must not be a zero, which is used for the exterior of the PLC.\n",
    "- User-defined attributes are assigned to regions by the `.poly` or `.smesh` file (in the region section). If a region is not explicitly marked by the `.poly` file or `.smesh` file, tetrahedra in that region are automatically assigned a non-zero attribute.\n",
    "- By default, the region attributes are numbered from 1, 2, 3, ⋯. If there are user-assigned region attributes (by the `.poly` or `.smesh` file), the region attributes are shifted by a number _i_, i.e., _i_+1, _i_+2, _i_+3, ⋯, where i is either 0 or the maximum integer of the user-assigned region attributes.\n",
    "- The `-A` switch has an effect only if the `-p` switch is used and the `-r` switch is not.\n"
   ]
  },
  {
   "cell_type": "code",
   "execution_count": 2,
   "metadata": {},
   "outputs": [
    {
     "name": "stdout",
     "output_type": "stream",
     "text": [
      " 6696 outputs/generated_lathe.1.edge\n",
      "14840 outputs/generated_lathe.1.ele\n",
      "10364 outputs/generated_lathe.1.face\n",
      "15800 outputs/generated_lathe.1.node\n"
     ]
    }
   ],
   "source": [
    "%%bash\n",
    "if [ outputs/generated_lathe.smesh -nt outputs/generated_lathe.1.node ]\n",
    "then\n",
    "    rm -fv outputs/tetgen-error.log outputs/generated_lathe.[0-9].*\n",
    "    tetgen -p outputs/generated_lathe.smesh > outputs/tetgen-error.log 2>&1\n",
    "#     tetgen -pq generated_lathe.smesh > tetgen-error.log 2>&1\n",
    "#     tetgen -pY generated_lathe.smesh > tetgen-error.log 2>&1\n",
    "#     tetgen -pAY generated_lathe.smesh > tetgen-error.log 2>&1\n",
    "#     tetgen -pqAY generated_lathe.smesh > tetgen-error.log 2>&1\n",
    "#     tetgen -pYMC generated_lathe.smesh > tetgen-error.log 2>&1\n",
    "#     tetgen -pqYMC generated_lathe.smesh > tetgen-error.log 2>&1\n",
    "#     tetgen -pqAYMC generated_lathe.smesh > tetgen-error.log 2>&1\n",
    "    ls -s outputs/generated_lathe.[0-9].*\n",
    "fi"
   ]
  },
  {
   "cell_type": "code",
   "execution_count": 3,
   "metadata": {
    "collapsed": true
   },
   "outputs": [],
   "source": [
    "%more outputs/tetgen-error.log"
   ]
  },
  {
   "cell_type": "code",
   "execution_count": 8,
   "metadata": {
    "collapsed": true
   },
   "outputs": [],
   "source": [
    "# coding: utf-8\n",
    "from __future__ import print_function,division,absolute_import\n",
    "import numpy as np"
   ]
  },
  {
   "cell_type": "code",
   "execution_count": 9,
   "metadata": {
    "collapsed": true
   },
   "outputs": [],
   "source": [
    "import os\n",
    "assert os.path.exists('outputs/generated_lathe.1.ele')"
   ]
  },
  {
   "cell_type": "code",
   "execution_count": 10,
   "metadata": {
    "collapsed": true
   },
   "outputs": [],
   "source": [
    "# from pattern import load_pattern_json\n",
    "# num_groups, voronoi_points, voronoi_group = load_pattern_json('outputs/voronoi_shatter.json')"
   ]
  },
  {
   "cell_type": "code",
   "execution_count": 11,
   "metadata": {
    "collapsed": true
   },
   "outputs": [],
   "source": [
    "filename = 'outputs/voronoi_shatter.json'"
   ]
  },
  {
   "cell_type": "code",
   "execution_count": 12,
   "metadata": {
    "collapsed": true
   },
   "outputs": [],
   "source": [
    "import json\n",
    "\n",
    "class Dummy: pass\n",
    "\n",
    "with open(filename,'r') as f:\n",
    "    shatter = Dummy()\n",
    "    vars(shatter).update(json.load(f))\n",
    "\n",
    "num_groups, voronoi_points, voronoi_group = shatter.num_groups, \\\n",
    "    np.array(shatter.point), np.array(shatter.point_group)"
   ]
  },
  {
   "cell_type": "code",
   "execution_count": 13,
   "metadata": {
    "collapsed": true
   },
   "outputs": [],
   "source": [
    "from tetgen_object import load_tetgen, elems_to_faces\n",
    "tetgen_obj = load_tetgen('outputs/generated_lathe.1')"
   ]
  },
  {
   "cell_type": "code",
   "execution_count": 14,
   "metadata": {
    "collapsed": true
   },
   "outputs": [],
   "source": [
    "position = tetgen_obj.nodes.points[:]\n",
    "texcoord = tetgen_obj.nodes.attrs[:]\n",
    "boundary = tetgen_obj.nodes.boundary_markers[:]\n",
    "elems = tetgen_obj.elems.elems[:]\n",
    "elems_attr = tetgen_obj.elems.attrs[:]\n",
    "faces = tetgen_obj.faces.faces[:]\n",
    "faces_boundary = tetgen_obj.faces.boundary_markers[:]"
   ]
  },
  {
   "cell_type": "code",
   "execution_count": 15,
   "metadata": {
    "collapsed": true
   },
   "outputs": [],
   "source": [
    "x, y, z = position.transpose()\n",
    "triangles = faces"
   ]
  },
  {
   "cell_type": "code",
   "execution_count": 16,
   "metadata": {
    "collapsed": true
   },
   "outputs": [],
   "source": [
    "from matplotlib import cm\n",
    "colors = cm.coolwarm(np.linspace(0.0,1.0,17))[:,:3]"
   ]
  },
  {
   "cell_type": "code",
   "execution_count": 17,
   "metadata": {},
   "outputs": [
    {
     "data": {
      "application/vnd.jupyter.widget-view+json": {
       "model_id": "0112a13297094d5385625d5f8b9b1c3c",
       "version_major": 2,
       "version_minor": 0
      },
      "text/plain": [
       "VBox(children=(Figure(camera_center=[0.0, 0.0, 0.0], height=500, matrix_projection=[0.0, 0.0, 0.0, 0.0, 0.0, 0…"
      ]
     },
     "metadata": {},
     "output_type": "display_data"
    }
   ],
   "source": [
    "# face 의 boundary marker 를 가지고 컬러\n",
    "vert_group = np.zeros([len(position)],dtype=int)\n",
    "\n",
    "# face_group = -(faces_boundary+2)\n",
    "# for i,f in enumerate(faces):\n",
    "#     group = face_group[i]\n",
    "#     vert_group[f[0]] = group\n",
    "#     vert_group[f[1]] = group\n",
    "#     vert_group[f[2]] = group\n",
    "vert_color = colors[boundary] ## [vert_group]\n",
    "\n",
    "import ipyvolume.pylab as p3\n",
    "import numpy as np\n",
    "\n",
    "p3.figure()\n",
    "p3.plot_trisurf(x, -y, z, triangles=triangles, color=vert_color)\n",
    "p3.squarelim()\n",
    "p3.show()"
   ]
  },
  {
   "cell_type": "code",
   "execution_count": 18,
   "metadata": {},
   "outputs": [
    {
     "name": "stderr",
     "output_type": "stream",
     "text": [
      "/data2/AIRI/lathe-and-shatter/pattern.py:89: UserWarning: \n",
      "This call to matplotlib.use() has no effect because the backend has already\n",
      "been chosen; matplotlib.use() must be called *before* pylab, matplotlib.pyplot,\n",
      "or matplotlib.backends is imported for the first time.\n",
      "\n",
      "The backend was *originally* set to 'module://ipykernel.pylab.backend_inline' by the following code:\n",
      "  File \"/home/keeyoung/miniconda2/envs/lathe36/lib/python3.6/runpy.py\", line 193, in _run_module_as_main\n",
      "    \"__main__\", mod_spec)\n",
      "  File \"/home/keeyoung/miniconda2/envs/lathe36/lib/python3.6/runpy.py\", line 85, in _run_code\n",
      "    exec(code, run_globals)\n",
      "  File \"/home/keeyoung/miniconda2/envs/lathe36/lib/python3.6/site-packages/ipykernel_launcher.py\", line 16, in <module>\n",
      "    app.launch_new_instance()\n",
      "  File \"/home/keeyoung/miniconda2/envs/lathe36/lib/python3.6/site-packages/traitlets/config/application.py\", line 658, in launch_instance\n",
      "    app.start()\n",
      "  File \"/home/keeyoung/miniconda2/envs/lathe36/lib/python3.6/site-packages/ipykernel/kernelapp.py\", line 486, in start\n",
      "    self.io_loop.start()\n",
      "  File \"/home/keeyoung/miniconda2/envs/lathe36/lib/python3.6/site-packages/tornado/platform/asyncio.py\", line 127, in start\n",
      "    self.asyncio_loop.run_forever()\n",
      "  File \"/home/keeyoung/miniconda2/envs/lathe36/lib/python3.6/asyncio/base_events.py\", line 422, in run_forever\n",
      "    self._run_once()\n",
      "  File \"/home/keeyoung/miniconda2/envs/lathe36/lib/python3.6/asyncio/base_events.py\", line 1434, in _run_once\n",
      "    handle._run()\n",
      "  File \"/home/keeyoung/miniconda2/envs/lathe36/lib/python3.6/asyncio/events.py\", line 145, in _run\n",
      "    self._callback(*self._args)\n",
      "  File \"/home/keeyoung/miniconda2/envs/lathe36/lib/python3.6/site-packages/tornado/platform/asyncio.py\", line 117, in _handle_events\n",
      "    handler_func(fileobj, events)\n",
      "  File \"/home/keeyoung/miniconda2/envs/lathe36/lib/python3.6/site-packages/tornado/stack_context.py\", line 276, in null_wrapper\n",
      "    return fn(*args, **kwargs)\n",
      "  File \"/home/keeyoung/miniconda2/envs/lathe36/lib/python3.6/site-packages/zmq/eventloop/zmqstream.py\", line 450, in _handle_events\n",
      "    self._handle_recv()\n",
      "  File \"/home/keeyoung/miniconda2/envs/lathe36/lib/python3.6/site-packages/zmq/eventloop/zmqstream.py\", line 480, in _handle_recv\n",
      "    self._run_callback(callback, msg)\n",
      "  File \"/home/keeyoung/miniconda2/envs/lathe36/lib/python3.6/site-packages/zmq/eventloop/zmqstream.py\", line 432, in _run_callback\n",
      "    callback(*args, **kwargs)\n",
      "  File \"/home/keeyoung/miniconda2/envs/lathe36/lib/python3.6/site-packages/tornado/stack_context.py\", line 276, in null_wrapper\n",
      "    return fn(*args, **kwargs)\n",
      "  File \"/home/keeyoung/miniconda2/envs/lathe36/lib/python3.6/site-packages/ipykernel/kernelbase.py\", line 283, in dispatcher\n",
      "    return self.dispatch_shell(stream, msg)\n",
      "  File \"/home/keeyoung/miniconda2/envs/lathe36/lib/python3.6/site-packages/ipykernel/kernelbase.py\", line 233, in dispatch_shell\n",
      "    handler(stream, idents, msg)\n",
      "  File \"/home/keeyoung/miniconda2/envs/lathe36/lib/python3.6/site-packages/ipykernel/kernelbase.py\", line 399, in execute_request\n",
      "    user_expressions, allow_stdin)\n",
      "  File \"/home/keeyoung/miniconda2/envs/lathe36/lib/python3.6/site-packages/ipykernel/ipkernel.py\", line 208, in do_execute\n",
      "    res = shell.run_cell(code, store_history=store_history, silent=silent)\n",
      "  File \"/home/keeyoung/miniconda2/envs/lathe36/lib/python3.6/site-packages/ipykernel/zmqshell.py\", line 537, in run_cell\n",
      "    return super(ZMQInteractiveShell, self).run_cell(*args, **kwargs)\n",
      "  File \"/home/keeyoung/miniconda2/envs/lathe36/lib/python3.6/site-packages/IPython/core/interactiveshell.py\", line 2666, in run_cell\n",
      "    self.events.trigger('post_run_cell', result)\n",
      "  File \"/home/keeyoung/miniconda2/envs/lathe36/lib/python3.6/site-packages/IPython/core/events.py\", line 88, in trigger\n",
      "    func(*args, **kwargs)\n",
      "  File \"/home/keeyoung/miniconda2/envs/lathe36/lib/python3.6/site-packages/ipykernel/pylab/backend_inline.py\", line 160, in configure_once\n",
      "    activate_matplotlib(backend)\n",
      "  File \"/home/keeyoung/miniconda2/envs/lathe36/lib/python3.6/site-packages/IPython/core/pylabtools.py\", line 311, in activate_matplotlib\n",
      "    matplotlib.pyplot.switch_backend(backend)\n",
      "  File \"/home/keeyoung/miniconda2/envs/lathe36/lib/python3.6/site-packages/matplotlib/pyplot.py\", line 231, in switch_backend\n",
      "    matplotlib.use(newbackend, warn=False, force=True)\n",
      "  File \"/home/keeyoung/miniconda2/envs/lathe36/lib/python3.6/site-packages/matplotlib/__init__.py\", line 1410, in use\n",
      "    reload(sys.modules['matplotlib.backends'])\n",
      "  File \"/home/keeyoung/miniconda2/envs/lathe36/lib/python3.6/importlib/__init__.py\", line 166, in reload\n",
      "    _bootstrap._exec(spec, module)\n",
      "  File \"/home/keeyoung/miniconda2/envs/lathe36/lib/python3.6/site-packages/matplotlib/backends/__init__.py\", line 16, in <module>\n",
      "    line for line in traceback.format_stack()\n",
      "\n",
      "\n",
      "  import matplotlib; matplotlib.use('Agg')\n"
     ]
    },
    {
     "data": {
      "application/vnd.jupyter.widget-view+json": {
       "model_id": "1c66c45fa5254eecb725e554ada59158",
       "version_major": 2,
       "version_minor": 0
      },
      "text/plain": [
       "VBox(children=(Figure(camera_center=[0.0, 0.0, 0.0], height=500, matrix_projection=[0.0, 0.0, 0.0, 0.0, 0.0, 0…"
      ]
     },
     "metadata": {},
     "output_type": "display_data"
    }
   ],
   "source": [
    "# node (vertices) 의 texcoord 를 가지고 컬러\n",
    "\n",
    "from pattern import find_voronoi_group\n",
    "vert_group = find_voronoi_group(texcoord,voronoi_points,voronoi_group)\n",
    "vert_color = colors[vert_group]\n",
    "\n",
    "import ipyvolume.pylab as p3\n",
    "\n",
    "p3.figure()\n",
    "p3.plot_trisurf(x, -y, z, triangles=triangles[:], color=vert_color)\n",
    "p3.squarelim()\n",
    "p3.show()"
   ]
  },
  {
   "cell_type": "code",
   "execution_count": 19,
   "metadata": {
    "collapsed": true
   },
   "outputs": [],
   "source": [
    "# 선택된 elems 의 v 좌표 분포\n",
    "\n",
    "# uvcoords = np.amin(texcoord[elems],axis=1)\n",
    "# uvcoords = np.mean(texcoord[elems],axis=1)\n",
    "uvcoords = np.amax(texcoord[elems],axis=1)\n",
    "\n",
    "# 해보니까, np.amax() 가 개중 훌륭함"
   ]
  },
  {
   "cell_type": "code",
   "execution_count": 20,
   "metadata": {},
   "outputs": [
    {
     "data": {
      "text/plain": [
       "(array([19375., 36658., 34194., 57170., 75318., 68550., 60913., 33957.,\n",
       "        33847., 25766.]),\n",
       " array([8.850000e-04, 1.007965e-01, 2.007080e-01, 3.006195e-01,\n",
       "        4.005310e-01, 5.004425e-01, 6.003540e-01, 7.002655e-01,\n",
       "        8.001770e-01, 9.000885e-01, 1.000000e+00]),\n",
       " <a list of 10 Patch objects>)"
      ]
     },
     "execution_count": 20,
     "metadata": {},
     "output_type": "execute_result"
    },
    {
     "data": {
      "image/png": "[encoded data removed]",
      "text/plain": [
       "<Figure size 432x288 with 1 Axes>"
      ]
     },
     "metadata": {},
     "output_type": "display_data"
    }
   ],
   "source": [
    "import matplotlib.pyplot as plt\n",
    "plt.hist(uvcoords[:,1])"
   ]
  },
  {
   "cell_type": "code",
   "execution_count": 21,
   "metadata": {},
   "outputs": [
    {
     "data": {
      "image/png": "[encoded data removed]",
      "text/plain": [
       "<Figure size 432x288 with 1 Axes>"
      ]
     },
     "metadata": {},
     "output_type": "display_data"
    }
   ],
   "source": [
    "# 선택된 elems 의 uv 좌표를 가지고 group 을 찾았을 때의 그룹 분포\n",
    "\n",
    "from pattern import find_voronoi_group\n",
    "elem_group = find_voronoi_group(uvcoords,voronoi_points,voronoi_group)\n",
    "\n",
    "import matplotlib.pyplot as plt\n",
    "plt.hist(elem_group);"
   ]
  },
  {
   "cell_type": "code",
   "execution_count": 22,
   "metadata": {
    "collapsed": true
   },
   "outputs": [],
   "source": [
    "# sel = 3\n",
    "# selected_elems = elems[elem_group == sel]\n",
    "# triangles = elems_to_faces(selected_elems)\n",
    "\n",
    "# import ipyvolume.pylab as p3\n",
    "\n",
    "# p3.figure()\n",
    "# p3.plot_trisurf(x, -y, z, triangles=triangles, color=vert_color)\n",
    "# p3.squarelim()\n",
    "# p3.show()"
   ]
  },
  {
   "cell_type": "code",
   "execution_count": 23,
   "metadata": {},
   "outputs": [
    {
     "data": {
      "application/vnd.jupyter.widget-view+json": {
       "model_id": "99f6e8c177de4ff7a7b230283cd5e9c7",
       "version_major": 2,
       "version_minor": 0
      },
      "text/plain": [
       "interactive(children=(IntSlider(value=0, continuous_update=False, description='sel', max=8), Output()), _dom_c…"
      ]
     },
     "metadata": {},
     "output_type": "display_data"
    }
   ],
   "source": [
    "import ipyvolume.pylab as p3\n",
    "from ipywidgets import interact,IntSlider\n",
    "\n",
    "@interact(sel=IntSlider(min=0,max=num_groups-1,value=0,continuous_update=False))\n",
    "def show_shatter(sel):\n",
    "    selected_elems = elems[elem_group == sel]\n",
    "    t_shatter = elems_to_faces(selected_elems)\n",
    "\n",
    "    p3.figure()\n",
    "    p3.plot_trisurf(x, -y, z, triangles=t_shatter[:], color=vert_color)\n",
    "    p3.xlim(-500,500)\n",
    "    p3.ylim(-500,500)\n",
    "    p3.zlim(-500,500)\n",
    "    p3.show()"
   ]
  },
  {
   "cell_type": "code",
   "execution_count": 24,
   "metadata": {},
   "outputs": [
    {
     "name": "stderr",
     "output_type": "stream",
     "text": [
      "writing outputs/generated_lathe_part_1\n",
      "writing outputs/generated_lathe_part_2\n",
      "writing outputs/generated_lathe_part_3\n",
      "writing outputs/generated_lathe_part_4\n",
      "writing outputs/generated_lathe_part_5\n",
      "writing outputs/generated_lathe_part_6\n",
      "writing outputs/generated_lathe_part_7\n",
      "writing outputs/generated_lathe_part_8\n",
      "writing outputs/generated_lathe_part_9\n"
     ]
    }
   ],
   "source": [
    "import sys\n",
    "for sel in range(num_groups):\n",
    "    part_name = 'outputs/generated_lathe_part_{:d}'.format(sel+1)\n",
    "    print('writing',part_name,file=sys.stderr)\n",
    "    selected_elems = elems[elem_group == sel]\n",
    "    obj3 = tetgen_obj.rebuild(selected_elems)\n",
    "    obj3.save(part_name)"
   ]
  },
  {
   "cell_type": "code",
   "execution_count": 21,
   "metadata": {},
   "outputs": [
    {
     "ename": "AssertionError",
     "evalue": "",
     "output_type": "error",
     "traceback": [
      "\u001b[0;31m---------------------------------------------------------------------------\u001b[0m",
      "\u001b[0;31mAssertionError\u001b[0m                            Traceback (most recent call last)",
      "\u001b[0;32m<ipython-input-21-34d6bc1d929c>\u001b[0m in \u001b[0;36m<module>\u001b[0;34m()\u001b[0m\n\u001b[0;32m----> 1\u001b[0;31m \u001b[0;32massert\u001b[0m \u001b[0;36m0\u001b[0m\u001b[0;34m\u001b[0m\u001b[0m\n\u001b[0m",
      "\u001b[0;31mAssertionError\u001b[0m: "
     ]
    }
   ],
   "source": [
    "assert 0"
   ]
  },
  {
   "cell_type": "code",
   "execution_count": null,
   "metadata": {
    "collapsed": true
   },
   "outputs": [],
   "source": []
  },
  {
   "cell_type": "code",
   "execution_count": null,
   "metadata": {
    "collapsed": true
   },
   "outputs": [],
   "source": []
  },
  {
   "cell_type": "code",
   "execution_count": 25,
   "metadata": {
    "collapsed": true
   },
   "outputs": [],
   "source": [
    "# retry rebuild()"
   ]
  },
  {
   "cell_type": "code",
   "execution_count": 26,
   "metadata": {
    "collapsed": true
   },
   "outputs": [],
   "source": [
    "from tetgen_object import load_tetgen, elems_to_faces\n",
    "tetgen_obj = load_tetgen('outputs/generated_lathe.1')\n",
    "# tetgen_obj = load_tetgen('outputs/twolayermdl.1')\n",
    "\n",
    "position = tetgen_obj.nodes.points[:]\n",
    "texcoord = tetgen_obj.nodes.attrs[:]\n",
    "boundary = tetgen_obj.nodes.boundary_markers[:]\n",
    "\n",
    "faces = tetgen_obj.faces.faces[:]\n",
    "face_boundary = tetgen_obj.faces.boundary_markers[:]\n",
    "\n",
    "elems = tetgen_obj.elems.elems[:]\n",
    "elem_attrs = tetgen_obj.elems.attrs[:]"
   ]
  },
  {
   "cell_type": "code",
   "execution_count": 27,
   "metadata": {},
   "outputs": [
    {
     "data": {
      "text/plain": [
       "((149096, 3), (149096,), (297988, 3), (297988,), (445748, 4), (0,))"
      ]
     },
     "execution_count": 27,
     "metadata": {},
     "output_type": "execute_result"
    }
   ],
   "source": [
    "position.shape,boundary.shape,  faces.shape,face_boundary.shape,  elems.shape,elem_attrs.shape"
   ]
  },
  {
   "cell_type": "code",
   "execution_count": 28,
   "metadata": {
    "collapsed": true
   },
   "outputs": [],
   "source": [
    "# # method A\n",
    "\n",
    "# from pattern import find_voronoi_group\n",
    "# face_uvcoords = np.amax(texcoord[faces],axis=1)\n",
    "# face_group = find_voronoi_group(face_uvcoords,voronoi_points,voronoi_group)\n",
    "# node_group = find_voronoi_group(texcoord,voronoi_points,voronoi_group)\n",
    "# np.amin(node_group),np.amax(node_group),np.amin(face_group),np.amax(face_group)"
   ]
  },
  {
   "cell_type": "code",
   "execution_count": 29,
   "metadata": {},
   "outputs": [
    {
     "data": {
      "text/plain": [
       "(-2, 8, 0, 8)"
      ]
     },
     "execution_count": 29,
     "metadata": {},
     "output_type": "execute_result"
    }
   ],
   "source": [
    "# method B\n",
    "\n",
    "node_group = -(2+tetgen_obj.nodes.boundary_markers)\n",
    "face_group = -(2+tetgen_obj.faces.boundary_markers)\n",
    "np.amin(node_group),np.amax(node_group),np.amin(face_group),np.amax(face_group)"
   ]
  },
  {
   "cell_type": "code",
   "execution_count": 30,
   "metadata": {},
   "outputs": [
    {
     "data": {
      "image/png": "[encoded data removed]",
      "text/plain": [
       "<Figure size 432x288 with 1 Axes>"
      ]
     },
     "metadata": {},
     "output_type": "display_data"
    }
   ],
   "source": [
    "plt.hist(face_group);"
   ]
  },
  {
   "cell_type": "code",
   "execution_count": 31,
   "metadata": {
    "collapsed": true
   },
   "outputs": [],
   "source": [
    "from matplotlib import cm\n",
    "colors = cm.coolwarm(np.linspace(0.0,1.0,17))[:,:3]"
   ]
  },
  {
   "cell_type": "code",
   "execution_count": 32,
   "metadata": {
    "collapsed": true
   },
   "outputs": [],
   "source": [
    "vert_group = np.zeros(len(x),dtype=int)\n",
    "for i,f in enumerate(faces):\n",
    "    vert_group[f[0]] = face_group[i]\n",
    "    vert_group[f[1]] = face_group[i]\n",
    "    vert_group[f[2]] = face_group[i]\n",
    "vert_color = colors[vert_group]"
   ]
  },
  {
   "cell_type": "code",
   "execution_count": 33,
   "metadata": {
    "collapsed": true
   },
   "outputs": [],
   "source": [
    "# vert_color = colors[node_group]"
   ]
  },
  {
   "cell_type": "code",
   "execution_count": 34,
   "metadata": {
    "collapsed": true
   },
   "outputs": [],
   "source": [
    "sel = 1"
   ]
  },
  {
   "cell_type": "code",
   "execution_count": 35,
   "metadata": {
    "collapsed": true
   },
   "outputs": [],
   "source": [
    "x, y, z = position.transpose()\n",
    "triangles = faces[face_group==sel]"
   ]
  },
  {
   "cell_type": "code",
   "execution_count": 36,
   "metadata": {
    "collapsed": true
   },
   "outputs": [],
   "source": [
    "selected_elems = elems[elem_group==sel]\n",
    "\n",
    "lines1 = selected_elems[:,[0,1]]\n",
    "lines2 = selected_elems[:,[0,2]]\n",
    "lines3 = selected_elems[:,[0,3]]\n",
    "lines4 = selected_elems[:,[1,2]]\n",
    "lines5 = selected_elems[:,[1,3]]\n",
    "lines6 = selected_elems[:,[2,3]]\n",
    "\n",
    "lines = np.concatenate([lines1,lines2,lines3,lines4,lines5,lines6],axis=0)"
   ]
  },
  {
   "cell_type": "code",
   "execution_count": 37,
   "metadata": {
    "collapsed": true
   },
   "outputs": [],
   "source": [
    "lines1 = triangles[:,[0,1]]\n",
    "lines2 = triangles[:,[0,2]]\n",
    "lines3 = triangles[:,[1,2]]\n",
    "\n",
    "lines = np.concatenate([lines1,lines2,lines3],axis=0)"
   ]
  },
  {
   "cell_type": "code",
   "execution_count": 38,
   "metadata": {},
   "outputs": [
    {
     "data": {
      "application/vnd.jupyter.widget-view+json": {
       "model_id": "abb563a108ae4762b35c9f6baa71d7eb",
       "version_major": 2,
       "version_minor": 0
      },
      "text/plain": [
       "VBox(children=(Figure(camera_center=[0.0, 0.0, 0.0], height=500, matrix_projection=[0.0, 0.0, 0.0, 0.0, 0.0, 0…"
      ]
     },
     "metadata": {},
     "output_type": "display_data"
    }
   ],
   "source": [
    "import ipyvolume.pylab as p3\n",
    "\n",
    "p3.figure()\n",
    "# p3.plot_trisurf(x, -y, z, triangles=triangles, color=vert_color)\n",
    "p3.plot_trisurf(x, -y, z, triangles=triangles, lines=lines, color=vert_color)\n",
    "p3.squarelim()\n",
    "p3.show()"
   ]
  },
  {
   "cell_type": "code",
   "execution_count": 39,
   "metadata": {
    "collapsed": true
   },
   "outputs": [],
   "source": [
    "from pattern import find_voronoi_group"
   ]
  },
  {
   "cell_type": "code",
   "execution_count": 40,
   "metadata": {
    "collapsed": true
   },
   "outputs": [],
   "source": [
    "# elem_uvcoords = np.amax(texcoord[elems],axis=1) # np.amax or np.amin or np.mean\n",
    "elem_u = np.amax(texcoord[elems][:,:,0],axis=1)\n",
    "elem_v = np.mean(texcoord[elems][:,:,1],axis=1)\n",
    "elem_uvcoords = np.transpose([elem_u,elem_v],[1,0])\n",
    "elem_group = find_voronoi_group(elem_uvcoords,voronoi_points,voronoi_group)"
   ]
  },
  {
   "cell_type": "code",
   "execution_count": 41,
   "metadata": {
    "collapsed": true
   },
   "outputs": [],
   "source": [
    "sel = 5"
   ]
  },
  {
   "cell_type": "code",
   "execution_count": 42,
   "metadata": {
    "collapsed": true
   },
   "outputs": [],
   "source": [
    "x, y, z = position.transpose()\n",
    "# triangles = faces[face_group==sel]\n",
    "triangles = elems_to_faces(elems[elem_group==sel])"
   ]
  },
  {
   "cell_type": "code",
   "execution_count": 43,
   "metadata": {
    "scrolled": false
   },
   "outputs": [
    {
     "data": {
      "application/vnd.jupyter.widget-view+json": {
       "model_id": "b9745fd8336a4cb6ad3bbae7161468fc",
       "version_major": 2,
       "version_minor": 0
      },
      "text/plain": [
       "VBox(children=(Figure(camera_center=[0.0, 0.0, 0.0], height=500, matrix_projection=[0.0, 0.0, 0.0, 0.0, 0.0, 0…"
      ]
     },
     "metadata": {},
     "output_type": "display_data"
    }
   ],
   "source": [
    "import ipyvolume.pylab as p3\n",
    "\n",
    "p3.figure()\n",
    "p3.plot_trisurf(x, -y, z, triangles=triangles, color=vert_color)\n",
    "p3.squarelim()\n",
    "p3.show()"
   ]
  },
  {
   "cell_type": "code",
   "execution_count": null,
   "metadata": {
    "collapsed": true
   },
   "outputs": [],
   "source": []
  },
  {
   "cell_type": "code",
   "execution_count": null,
   "metadata": {
    "collapsed": true
   },
   "outputs": [],
   "source": []
  },
  {
   "cell_type": "code",
   "execution_count": null,
   "metadata": {
    "collapsed": true
   },
   "outputs": [],
   "source": []
  }
 ],
 "metadata": {
  "kernelspec": {
   "display_name": "Python 3",
   "language": "python",
   "name": "python3"
  },
  "language_info": {
   "codemirror_mode": {
    "name": "ipython",
    "version": 3
   },
   "file_extension": ".py",
   "mimetype": "text/x-python",
   "name": "python",
   "nbconvert_exporter": "python",
   "pygments_lexer": "ipython3",
   "version": "3.5.3"
  }
 },
 "nbformat": 4,
 "nbformat_minor": 2
}
