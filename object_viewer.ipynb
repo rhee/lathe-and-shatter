{
 "cells": [
  {
   "cell_type": "markdown",
   "metadata": {},
   "source": [
    "Copyright 2018 Artificial Intelligence Research Institute(AIRI), Korea\n",
    "\n",
    "This file is part of lathe-and-shatter.\n",
    "lathe-and-shatter is free software: you can redistribute it and/or modify\n",
    "it under the terms of the GNU General Public License as published by\n",
    "the Free Software Foundation, either version 3 of the License, or\n",
    "(at your option) any later version.\n",
    "\n",
    "lathe-and-shatter is distributed in the hope that it will be useful,\n",
    "but WITHOUT ANY WARRANTY; without even the implied warranty of\n",
    "MERCHANTABILITY or FITNESS FOR A PARTICULAR PURPOSE.  See the\n",
    "GNU General Public License for more details.\n",
    "\n",
    "You should have received a copy of the GNU General Public License\n",
    "along with lathe-and-shatter.  If not, see <https://www.gnu.org/licenses/>."
   ]
  },
  {
   "cell_type": "code",
   "execution_count": 1,
   "metadata": {
    "collapsed": true
   },
   "outputs": [],
   "source": [
    "%matplotlib inline"
   ]
  },
  {
   "cell_type": "code",
   "execution_count": 2,
   "metadata": {
    "collapsed": true
   },
   "outputs": [],
   "source": [
    "# coding: utf-8\n",
    "from __future__ import print_function,division,absolute_import\n",
    "import numpy as np"
   ]
  },
  {
   "cell_type": "code",
   "execution_count": 3,
   "metadata": {
    "collapsed": true
   },
   "outputs": [],
   "source": [
    "from tetgen_object import load_tetgen"
   ]
  },
  {
   "cell_type": "code",
   "execution_count": 4,
   "metadata": {
    "collapsed": true
   },
   "outputs": [],
   "source": [
    "from matplotlib import cm\n",
    "max_groups = 20\n",
    "colors = cm.coolwarm(np.linspace(0.0,1.0,max(2,max_groups)))[:,:3]"
   ]
  },
  {
   "cell_type": "code",
   "execution_count": 15,
   "metadata": {
    "collapsed": true
   },
   "outputs": [],
   "source": [
    "# filename = 'outputs/generated_lathe'\n",
    "# filename = 'outputs/generated_11_1_67356'\n",
    "# filename = 'outputs/generated_11_1_333739'\n",
    "# filename = 'outputs/generated_11_3_154579'\n",
    "# filename = 'outputs/generated_11_2_214524'\n",
    "# filename = 'outputs/generated_11_1_945618'\n",
    "filename = 'outputs/generated_11_0_64373'"
   ]
  },
  {
   "cell_type": "code",
   "execution_count": 16,
   "metadata": {},
   "outputs": [
    {
     "data": {
      "application/vnd.jupyter.widget-view+json": {
       "model_id": "4406590badd245849eb62f7ffa3871d0",
       "version_major": 2,
       "version_minor": 0
      },
      "text/plain": [
       "VBox(children=(Figure(camera_center=[0.0, 0.0, 0.0], height=500, matrix_projection=[0.0, 0.0, 0.0, 0.0, 0.0, 0…"
      ]
     },
     "metadata": {},
     "output_type": "display_data"
    }
   ],
   "source": [
    "tetgen_obj = load_tetgen(filename + '.1')\n",
    "\n",
    "x, y, z = tetgen_obj.nodes.points.transpose()\n",
    "triangles = tetgen_obj.faces.faces\n",
    "node_group = -(2+tetgen_obj.nodes.boundary_markers)\n",
    "node_colors = colors[node_group]\n",
    "\n",
    "import ipyvolume.pylab as p3\n",
    "import numpy as np\n",
    "\n",
    "p3.figure()\n",
    "p3.plot_trisurf(x, -y, z, triangles=triangles, color=node_colors)\n",
    "p3.squarelim()\n",
    "p3.show()"
   ]
  },
  {
   "cell_type": "code",
   "execution_count": 17,
   "metadata": {},
   "outputs": [
    {
     "data": {
      "application/vnd.jupyter.widget-view+json": {
       "model_id": "8c5d4b20a06a473c9afe62fd3fc0b0d3",
       "version_major": 2,
       "version_minor": 0
      },
      "text/plain": [
       "interactive(children=(IntSlider(value=5, continuous_update=False, description='part', max=11, min=1), Output()…"
      ]
     },
     "metadata": {},
     "output_type": "display_data"
    }
   ],
   "source": [
    "import ipyvolume.pylab as p3\n",
    "from ipywidgets import interact,IntSlider\n",
    "\n",
    "@interact(part=IntSlider(min=1,max=11,value=5,continuous_update=False))\n",
    "def show_fracture(part):\n",
    "    \n",
    "    # mesh 파일 로드\n",
    "    part_file = filename + '_part_{:d}'.format(part)\n",
    "    print(part_file)\n",
    "    \n",
    "    tetgen_obj = load_tetgen(part_file)\n",
    "    \n",
    "    # npy 파일 (point cloud) 로드\n",
    "    import numpy as np\n",
    "    with open(part_file + '.npy','rb') as f:\n",
    "        points_all = np.load(f)\n",
    "\n",
    "    # 적당한 갯수의 point 만 골라내서 point cloud 로 사용\n",
    "    point_choice = np.random.uniform(size=[len(points_all)])\n",
    "    points = points_all[point_choice < 0.2].transpose()\n",
    "    #print(points.shape)\n",
    "\n",
    "    # mesh rendering\n",
    "    x, y, z = tetgen_obj.nodes.points.transpose()\n",
    "    triangles = tetgen_obj.faces.faces\n",
    "    node_group = -(2+tetgen_obj.nodes.boundary_markers)\n",
    "    node_colors = colors[node_group]\n",
    "\n",
    "    import ipyvolume.pylab as p3\n",
    "    import numpy as np\n",
    "\n",
    "    p3.figure(width=250,height=250)\n",
    "    p3.plot_trisurf(x, -y, z, triangles=triangles, color=node_colors)\n",
    "    p3.squarelim()\n",
    "    p3.show()\n",
    "\n",
    "    # point cloud rendering\n",
    "    px, py, pz = points\n",
    "    \n",
    "    import ipyvolume.pylab as p3\n",
    "    import numpy as np\n",
    "\n",
    "    p3.figure(width=250,height=250)\n",
    "    p3.scatter(px, -py, pz, size=0.1, marker='sphere')\n",
    "    p3.squarelim()\n",
    "    p3.show()"
   ]
  },
  {
   "cell_type": "code",
   "execution_count": 8,
   "metadata": {
    "collapsed": true
   },
   "outputs": [],
   "source": [
    "from stl import mesh\n",
    "# numpy-stl: https://pypi.org/project/numpy-stl/"
   ]
  },
  {
   "cell_type": "code",
   "execution_count": 9,
   "metadata": {
    "collapsed": true
   },
   "outputs": [],
   "source": [
    "mesh = mesh.Mesh.from_file('/data2/DATA/Pottery/DoTongRi-1st/1.stl')"
   ]
  },
  {
   "cell_type": "code",
   "execution_count": 10,
   "metadata": {},
   "outputs": [
    {
     "data": {
      "text/plain": [
       "<stl.mesh.Mesh at 0x7f1458fe82e8>"
      ]
     },
     "execution_count": 10,
     "metadata": {},
     "output_type": "execute_result"
    }
   ],
   "source": [
    "mesh"
   ]
  },
  {
   "cell_type": "code",
   "execution_count": 11,
   "metadata": {},
   "outputs": [
    {
     "data": {
      "text/plain": [
       "(246898, 3)"
      ]
     },
     "execution_count": 11,
     "metadata": {},
     "output_type": "execute_result"
    }
   ],
   "source": [
    "mesh.normals.shape"
   ]
  },
  {
   "cell_type": "code",
   "execution_count": 12,
   "metadata": {},
   "outputs": [
    {
     "data": {
      "text/plain": [
       "((246898, 3), (246898, 3), (246898, 3))"
      ]
     },
     "execution_count": 12,
     "metadata": {},
     "output_type": "execute_result"
    }
   ],
   "source": [
    "mesh.v0.shape, mesh.v1.shape, mesh.v2.shape"
   ]
  },
  {
   "cell_type": "code",
   "execution_count": 13,
   "metadata": {},
   "outputs": [
    {
     "data": {
      "text/plain": [
       "(246898, 9)"
      ]
     },
     "execution_count": 13,
     "metadata": {},
     "output_type": "execute_result"
    }
   ],
   "source": [
    "mesh.points.shape"
   ]
  },
  {
   "cell_type": "code",
   "execution_count": 14,
   "metadata": {},
   "outputs": [
    {
     "name": "stderr",
     "output_type": "stream",
     "text": [
      "Your mesh is not closed, the mass methods will not function\n",
      "            correctly on this mesh.  For more info:\n",
      "            https://github.com/WoLpH/numpy-stl/issues/69\n"
     ]
    }
   ],
   "source": [
    "volume, cog, inertia = mesh.get_mass_properties()"
   ]
  },
  {
   "cell_type": "code",
   "execution_count": null,
   "metadata": {
    "collapsed": true
   },
   "outputs": [],
   "source": []
  },
  {
   "cell_type": "code",
   "execution_count": null,
   "metadata": {
    "collapsed": true
   },
   "outputs": [],
   "source": []
  },
  {
   "cell_type": "code",
   "execution_count": null,
   "metadata": {
    "collapsed": true
   },
   "outputs": [],
   "source": []
  }
 ],
 "metadata": {
  "kernelspec": {
   "display_name": "Python 3",
   "language": "python",
   "name": "python3"
  },
  "language_info": {
   "codemirror_mode": {
    "name": "ipython",
    "version": 3
   },
   "file_extension": ".py",
   "mimetype": "text/x-python",
   "name": "python",
   "nbconvert_exporter": "python",
   "pygments_lexer": "ipython3",
   "version": "3.5.3"
  }
 },
 "nbformat": 4,
 "nbformat_minor": 2
}
